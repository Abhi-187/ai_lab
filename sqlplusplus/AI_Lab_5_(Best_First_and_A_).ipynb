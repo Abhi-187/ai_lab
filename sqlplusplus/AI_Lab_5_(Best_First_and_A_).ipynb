{
  "nbformat": 4,
  "nbformat_minor": 0,
  "metadata": {
    "colab": {
      "provenance": []
    },
    "kernelspec": {
      "name": "python3",
      "display_name": "Python 3"
    },
    "language_info": {
      "name": "python"
    }
  },
  "cells": [
    {
      "cell_type": "markdown",
      "source": [
        "**Best-First Search**"
      ],
      "metadata": {
        "id": "4OCqOD4fgjOg"
      }
    },
    {
      "cell_type": "markdown",
      "source": [
        "1."
      ],
      "metadata": {
        "id": "4SlzMXBdnsGv"
      }
    },
    {
      "cell_type": "code",
      "source": [
        "from queue import PriorityQueue\n",
        "import matplotlib.pyplot as plt\n",
        "import networkx as nx\n",
        "\n",
        "def best_first_search(source, target, n):\n",
        "    visited = [0] * n\n",
        "    visited[source] = True\n",
        "    pq = PriorityQueue()\n",
        "    pq.put((0, source))\n",
        "    while pq.empty() == False:\n",
        "        u = pq.get()[1]\n",
        "        print(u, end=\" \") # the path having lowest cost\n",
        "        if u == target:\n",
        "            break\n",
        "        for v, c in graph[u]:\n",
        "            if visited[v] == False:\n",
        "                visited[v] = True\n",
        "                pq.put((c, v))\n",
        "    print()\n",
        "# for adding edges to graph\n",
        "def addedge(x, y, cost):\n",
        "    graph[x].append((y, cost))\n",
        "    graph[y].append((x, cost))\n",
        "    \n",
        "G = nx.Graph()\n",
        "v = int(input(\"Enter the number of nodes: \"))\n",
        "graph = [[] for i in range(v)] # undirected Graph\n",
        "e = int(input(\"Enter the number of edges: \"))\n",
        "print(\"Enter the edges along with their weights:\")\n",
        "\n",
        "for i in range(e):\n",
        "    x, y, z = list(map(int, input().split()))\n",
        "    addedge(x, y, z)\n",
        "    G.add_edge(x, y, weight = z)\n",
        "    \n",
        "source = int(input(\"Enter the Source Node: \")) \n",
        "target = int(input(\"Enter the Target/Destination Node: \"))\n",
        "print(\"\\nPath: \", end = \"\")\n",
        "best_first_search(source, target, v)"
      ],
      "metadata": {
        "colab": {
          "base_uri": "https://localhost:8080/"
        },
        "id": "va26rjtVit3l",
        "outputId": "965a1596-3782-4a3a-e948-824dfadb547b"
      },
      "execution_count": null,
      "outputs": [
        {
          "output_type": "stream",
          "name": "stdout",
          "text": [
            "Enter the number of nodes: 10\n",
            "Enter the number of edges: 9\n",
            "Enter the edges along with their weights:\n",
            "0 1 3\n",
            "0 2 2\n",
            "1 3 4\n",
            "1 4 1\n",
            "2 5 3\n",
            "2 6 1\n",
            "6 8 2\n",
            "6 9 3\n",
            "5 7 5\n",
            "Enter the Source Node: 9\n",
            "Enter the Target/Destination Node: 0\n",
            "\n",
            "Path: 9 6 2 0 \n"
          ]
        }
      ]
    },
    {
      "cell_type": "markdown",
      "source": [
        "2."
      ],
      "metadata": {
        "id": "6eAEzuiynt8P"
      }
    },
    {
      "cell_type": "code",
      "source": [
        "from queue import PriorityQueue\n",
        "v = 5\n",
        "graph = [[] for i in range(v)]\n",
        "def best_first_search(source, target, n):\n",
        "  visited = [0] * n\n",
        "  visited[0] = True\n",
        "  pq = PriorityQueue()\n",
        "  pq.put((0, source))\n",
        "  while pq.empty() == False:\n",
        "    u = pq.get()[1]\n",
        "    print(u, end=\" \")\n",
        "    if u == target:\n",
        "      break\n",
        "    for v, c in graph[u]:\n",
        "      if visited[v] == False:\n",
        "        visited[v] = True\n",
        "        pq.put((c, v))\n",
        "  print()\n",
        "def addedge(x, y, cost):\n",
        "  graph[x].append((y, cost))\n",
        "  graph[y].append((x, cost))\n",
        "addedge(0, 1, 5)\n",
        "addedge(0, 2, 1)\n",
        "addedge(2, 3, 2)\n",
        "addedge(1, 4, 1)\n",
        "addedge(3, 4, 2)\n",
        "source = 0\n",
        "target = 4\n",
        "best_first_search(source, target, v)"
      ],
      "metadata": {
        "colab": {
          "base_uri": "https://localhost:8080/"
        },
        "id": "GZVX2waRnmIG",
        "outputId": "ea4ac69d-20eb-497b-e11b-78e91d8328f1"
      },
      "execution_count": null,
      "outputs": [
        {
          "output_type": "stream",
          "name": "stdout",
          "text": [
            "0 2 3 4 \n"
          ]
        }
      ]
    },
    {
      "cell_type": "code",
      "source": [
        "print(\"Graph:\\n\")\n",
        "pos = nx.spring_layout(G, seed=7)  # positions for all nodes - seed for reproducibility\n",
        "\n",
        "# nodes\n",
        "nx.draw_networkx_nodes(G, pos, node_size=350)\n",
        "\n",
        "# edges\n",
        "nx.draw_networkx_edges(G, pos)\n",
        "nx.draw_networkx_edges(G, pos, alpha=0.5, edge_color=\"r\")\n",
        "\n",
        "# labels\n",
        "nx.draw_networkx_labels(G, pos, font_size=20)\n",
        "\n",
        "ax = plt.gca()\n",
        "ax.margins(0.08)\n",
        "plt.axis(\"off\")\n",
        "plt.tight_layout()\n",
        "plt.show()"
      ],
      "metadata": {
        "colab": {
          "base_uri": "https://localhost:8080/",
          "height": 332
        },
        "id": "s6P8Goj-jcdb",
        "outputId": "4a6c93a8-4cf4-444e-d7ad-656660e57868"
      },
      "execution_count": null,
      "outputs": [
        {
          "output_type": "stream",
          "name": "stdout",
          "text": [
            "Graph:\n",
            "\n"
          ]
        },
        {
          "output_type": "display_data",
          "data": {
            "text/plain": [
              "<Figure size 432x288 with 1 Axes>"
            ],
            "image/png": "[encoded data removed]"
          },
          "metadata": {}
        }
      ]
    },
    {
      "cell_type": "markdown",
      "source": [
        "**A* Search**"
      ],
      "metadata": {
        "id": "5do9Ft-_jYKK"
      }
    },
    {
      "cell_type": "markdown",
      "source": [
        "1."
      ],
      "metadata": {
        "id": "1fpoK2N-nx3f"
      }
    },
    {
      "cell_type": "code",
      "source": [
        "# graph class\n",
        "class Graph:\n",
        "    \n",
        "    # init class\n",
        "    def __init__(self, graph_dict=None, directed=True):\n",
        "        self.graph_dict = graph_dict or {}\n",
        "        self.directed = directed\n",
        "        if not directed:\n",
        "            self.make_undirected()\n",
        "\n",
        "    # create undirected graph by adding symmetric edges\n",
        "    def make_undirected(self):\n",
        "        for a in list(self.graph_dict.keys()):\n",
        "            for (b, dist) in self.graph_dict[a].items():\n",
        "                self.graph_dict.setdefault(b, {})[a] = dist\n",
        "\n",
        "    # add link from A and B of given distance, and also add the inverse link if the graph is undirected\n",
        "    def connect(self, A, B, distance=1):\n",
        "        self.graph_dict.setdefault(A, {})[B] = distance\n",
        "        if not self.directed:\n",
        "            self.graph_dict.setdefault(B, {})[A] = distance\n",
        "\n",
        "    # get neighbors or a neighbor\n",
        "    def get(self, a, b=None):\n",
        "        links = self.graph_dict.setdefault(a, {})\n",
        "        if b is None:\n",
        "            return links\n",
        "        else:\n",
        "            return links.get(b)\n",
        "\n",
        "    # return list of nodes in the graph\n",
        "    def nodes(self):\n",
        "        s1 = set([k for k in self.graph_dict.keys()])\n",
        "        s2 = set([k2 for v in self.graph_dict.values() for k2, v2 in v.items()])\n",
        "        nodes = s1.union(s2)\n",
        "        return list(nodes)\n",
        "\n",
        "# node class\n",
        "class Node:\n",
        "\n",
        "    # init class\n",
        "    def __init__(self, name:str, parent:str):\n",
        "        self.name = name\n",
        "        self.parent = parent\n",
        "        self.g = 0 # distance to start node\n",
        "        self.h = 0 # distance to goal node\n",
        "        self.f = 0 # total cost\n",
        "\n",
        "    # compare nodes\n",
        "    def __eq__(self, other):\n",
        "        return self.name == other.name\n",
        "\n",
        "    # sort nodes\n",
        "    def __lt__(self, other):\n",
        "         return self.f < other.f\n",
        "\n",
        "    # print node\n",
        "    def __repr__(self):\n",
        "        return ('({0},{1})'.format(self.name, self.f))\n",
        "\n",
        "# A* search\n",
        "def astar_search(graph, heuristics, start, end):\n",
        "    \n",
        "    # lists for open nodes and closed nodes\n",
        "    open = []\n",
        "    closed = []\n",
        "\n",
        "    # a start node and an goal node\n",
        "    start_node = Node(start, None)\n",
        "    goal_node = Node(end, None)\n",
        "\n",
        "    # add start node\n",
        "    open.append(start_node)\n",
        "    \n",
        "    # loop until the open list is empty\n",
        "    while len(open) > 0:\n",
        "\n",
        "       \n",
        "        open.sort()                                 # sort open list to get the node with the lowest cost first\n",
        "        current_node = open.pop(0)                  # get node with the lowest cost\n",
        "        closed.append(current_node)                 # add current node to the closed list\n",
        "        \n",
        "        # check if we have reached the goal, return the path\n",
        "        if current_node == goal_node:\n",
        "            path = []\n",
        "            while current_node != start_node:\n",
        "                path.append(current_node.name + ': ' + str(current_node.g))\n",
        "                current_node = current_node.parent\n",
        "            path.append(start_node.name + ': ' + str(start_node.g))\n",
        "            return path[::-1]\n",
        "\n",
        "        \n",
        "        neighbors = graph.get(current_node.name)    # get neighbours\n",
        "        \n",
        "        # loop neighbors\n",
        "        for key, value in neighbors.items():\n",
        "            neighbor = Node(key, current_node)      # create neighbor node\n",
        "            if(neighbor in closed):                 # check if the neighbor is in the closed list\n",
        "                continue\n",
        "\n",
        "            # calculate full path cost\n",
        "            neighbor.g = current_node.g + graph.get(current_node.name, neighbor.name)\n",
        "            neighbor.h = heuristics.get(neighbor.name)\n",
        "            neighbor.f = neighbor.g + neighbor.h\n",
        "\n",
        "            # check if neighbor is in open list and if it has a lower f value\n",
        "            if(add_to_open(open, neighbor) == True):\n",
        "\n",
        "                # everything is green, add neighbor to open list\n",
        "                open.append(neighbor)\n",
        "\n",
        "    # return None, no path is found\n",
        "    return None\n",
        "\n",
        "# check if a neighbor should be added to open list\n",
        "def add_to_open(open, neighbor):\n",
        "    for node in open:\n",
        "        if (neighbor == node and neighbor.f > node.f):\n",
        "            return False\n",
        "    return True\n",
        "\n",
        "# create a graph\n",
        "graph = Graph() # user-based input for edges will be updated in the upcoming days\n",
        "# create graph connections (Actual distance)\n",
        "graph.connect('Frankfurt', 'Wurzburg', 111)\n",
        "graph.connect('Frankfurt', 'Mannheim', 85)\n",
        "graph.connect('Wurzburg', 'Nurnberg', 104)\n",
        "graph.connect('Wurzburg', 'Stuttgart', 140)\n",
        "graph.connect('Wurzburg', 'Ulm', 183)\n",
        "graph.connect('Mannheim', 'Nurnberg', 230)\n",
        "graph.connect('Mannheim', 'Karlsruhe', 67)\n",
        "graph.connect('Karlsruhe', 'Basel', 191)\n",
        "graph.connect('Karlsruhe', 'Stuttgart', 64)\n",
        "graph.connect('Nurnberg', 'Ulm', 171)\n",
        "graph.connect('Nurnberg', 'Munchen', 170)\n",
        "graph.connect('Nurnberg', 'Passau', 220)\n",
        "graph.connect('Stuttgart', 'Ulm', 107)\n",
        "graph.connect('Basel', 'Bern', 91)\n",
        "graph.connect('Basel', 'Zurich', 85)\n",
        "graph.connect('Bern', 'Zurich', 120)\n",
        "graph.connect('Zurich', 'Memmingen', 184)\n",
        "graph.connect('Memmingen', 'Ulm', 55)\n",
        "graph.connect('Memmingen', 'Munchen', 115)\n",
        "graph.connect('Munchen', 'Ulm', 123)\n",
        "graph.connect('Munchen', 'Passau', 189)\n",
        "graph.connect('Munchen', 'Rosenheim', 59)\n",
        "graph.connect('Rosenheim', 'Salzburg', 81)\n",
        "graph.connect('Passau', 'Linz', 102)\n",
        "graph.connect('Salzburg', 'Linz', 126)\n",
        "# make graph undirected, create symmetric connections\n",
        "graph.make_undirected()\n",
        "# create heuristics (straight-line distance, air-travel distance)\n",
        "heuristics = {}\n",
        "heuristics['Basel'] = 204\n",
        "heuristics['Bern'] = 247\n",
        "heuristics['Frankfurt'] = 215\n",
        "heuristics['Karlsruhe'] = 137\n",
        "heuristics['Linz'] = 318\n",
        "heuristics['Mannheim'] = 164\n",
        "heuristics['Munchen'] = 120\n",
        "heuristics['Memmingen'] = 47\n",
        "heuristics['Nurnberg'] = 132\n",
        "heuristics['Passau'] = 257\n",
        "heuristics['Rosenheim'] = 168\n",
        "heuristics['Stuttgart'] = 75\n",
        "heuristics['Salzburg'] = 236\n",
        "heuristics['Wurzburg'] = 153\n",
        "heuristics['Zurich'] = 157\n",
        "heuristics['Ulm'] = 0\n",
        "# run the search algorithm\n",
        "path = astar_search(graph, heuristics, 'Frankfurt', 'Ulm')\n",
        "print(\"Path:\", path)"
      ],
      "metadata": {
        "colab": {
          "base_uri": "https://localhost:8080/"
        },
        "id": "BLCW0rQcjnrQ",
        "outputId": "fedb219b-0521-4ee3-d655-3a8e0c8bc0e8"
      },
      "execution_count": null,
      "outputs": [
        {
          "output_type": "stream",
          "name": "stdout",
          "text": [
            "Path: ['Frankfurt: 0', 'Wurzburg: 111', 'Ulm: 294']\n"
          ]
        }
      ]
    },
    {
      "cell_type": "markdown",
      "source": [
        "2."
      ],
      "metadata": {
        "id": "GDjgnOS6n5v_"
      }
    },
    {
      "cell_type": "code",
      "source": [
        "from collections import deque\n",
        "\n",
        "class Graph:\n",
        "    def __init__(self, adjacency_list):\n",
        "        self.adjacency_list = adjacency_list\n",
        "\n",
        "    def get_neighbors(self, v):\n",
        "        return self.adjacency_list[v]\n",
        "\n",
        "    def h(self, n):\n",
        "        H = {\n",
        "            'A': 1,\n",
        "            'B': 1,\n",
        "            'C': 1,\n",
        "            'D': 1\n",
        "        }\n",
        "\n",
        "        return H[n]\n",
        "\n",
        "    def a_star_algorithm(self, start_node, stop_node):\n",
        "        open_list = set([start_node])\n",
        "        closed_list = set([])\n",
        "        g = {}\n",
        "\n",
        "        g[start_node] = 0\n",
        "        parents = {}\n",
        "        parents[start_node] = start_node\n",
        "\n",
        "        while len(open_list) > 0:\n",
        "            n = None\n",
        "            for v in open_list:\n",
        "                if n == None or g[v] + self.h(v) < g[n] + self.h(n):\n",
        "                    n = v;\n",
        "\n",
        "            if n == None:\n",
        "                print('Path does not exist!')\n",
        "                return None\n",
        "            if n == stop_node:\n",
        "                reconst_path = []\n",
        "\n",
        "                while parents[n] != n:\n",
        "                    reconst_path.append(n)\n",
        "                    n = parents[n]\n",
        "\n",
        "                reconst_path.append(start_node)\n",
        "\n",
        "                reconst_path.reverse()\n",
        "\n",
        "                print('Path found: {}'.format(reconst_path))\n",
        "                return reconst_path\n",
        "\n",
        "            for (m, weight) in self.get_neighbors(n):\n",
        "                if m not in open_list and m not in closed_list:\n",
        "                    open_list.add(m)\n",
        "                    parents[m] = n\n",
        "                    g[m] = g[n] + weight\n",
        "                else:\n",
        "                    if g[m] > g[n] + weight:\n",
        "                        g[m] = g[n] + weight\n",
        "                        parents[m] = n\n",
        "\n",
        "                        if m in closed_list:\n",
        "                            closed_list.remove(m)\n",
        "                            open_list.add(m)\n",
        "            open_list.remove(n)\n",
        "            closed_list.add(n)\n",
        "\n",
        "        print('Path does not exist!')\n",
        "        return None\n",
        "\n",
        "adjacency_list = {\n",
        "    'A': [('B', 1), ('C', 3), ('D', 7)],\n",
        "    'B': [('D', 5)],\n",
        "    'C': [('D', 12)]\n",
        "}\n",
        "graph1 = Graph(adjacency_list)\n",
        "graph1.a_star_algorithm('A', 'D')"
      ],
      "metadata": {
        "colab": {
          "base_uri": "https://localhost:8080/"
        },
        "id": "xB3tstx9lcRQ",
        "outputId": "a99df980-5b28-4fbd-f7ee-d816be8b4503"
      },
      "execution_count": null,
      "outputs": [
        {
          "output_type": "stream",
          "name": "stdout",
          "text": [
            "Path found: ['A', 'B', 'D']\n"
          ]
        },
        {
          "output_type": "execute_result",
          "data": {
            "text/plain": [
              "['A', 'B', 'D']"
            ]
          },
          "metadata": {},
          "execution_count": 15
        }
      ]
    }
  ]
}