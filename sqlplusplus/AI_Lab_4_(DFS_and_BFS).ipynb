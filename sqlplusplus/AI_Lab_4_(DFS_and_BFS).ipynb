{
  "nbformat": 4,
  "nbformat_minor": 0,
  "metadata": {
    "colab": {
      "provenance": []
    },
    "kernelspec": {
      "name": "python3",
      "display_name": "Python 3"
    },
    "language_info": {
      "name": "python"
    }
  },
  "cells": [
    {
      "cell_type": "code",
      "execution_count": null,
      "metadata": {
        "colab": {
          "base_uri": "https://localhost:8080/"
        },
        "id": "DouNHcF0DTNf",
        "outputId": "b2d8eae6-c57e-441e-c55a-6c80954823ef"
      },
      "outputs": [
        {
          "output_type": "stream",
          "name": "stdout",
          "text": [
            "A\n",
            "B\n",
            "D\n",
            "E\n",
            "F\n",
            "C\n"
          ]
        }
      ],
      "source": [
        "#Deapth for Search\n",
        "graph = {\n",
        "  'A' : ['B','C'],\n",
        "  'B' : ['D'],\n",
        "  'C' : ['F'],\n",
        "  'D' : ['E', 'F'],\n",
        "  'E' : [],\n",
        "  'F' : ['A']\n",
        "} \n",
        "visited = set() # Keep track of visited nodes.\n",
        " \n",
        "def dfs(visited, graph, node):\n",
        "    if node not in visited:\n",
        "        print (node)\n",
        "        visited.add(node)\n",
        "        for neighbour in graph[node]:\n",
        "            dfs(visited, graph, neighbour)\n",
        " \n",
        "dfs(visited, graph, 'A')"
      ]
    },
    {
      "cell_type": "code",
      "source": [
        "from collections import defaultdict\n",
        "\n",
        "visited = defaultdict(lambda: False)\n",
        "\n",
        "# To store J1, J2 and Litre\n",
        "J1, J2, L = 0, 0, 0\n",
        "\n",
        "def Water_Jug_problem(X, Y):\n",
        "\n",
        "    global J1, J2, L\n",
        "\n",
        "    if (X == L and Y == 0) or (Y == L and X == 0):\n",
        "        print(\"(\",X, \", \",Y,\")\", sep =\"\")\n",
        "        return True\n",
        "\n",
        "    if visited[(X, Y)] == False:\n",
        "        print(\"(\",X, \", \",Y,\")\", sep =\"\")\n",
        "\n",
        "        visited[(X, Y)] = True\n",
        "\n",
        "        return (Water_Jug_problem(0, Y) or\n",
        "                Water_Jug_problem(X, 0) or\n",
        "                Water_Jug_problem(J1, Y) or\n",
        "                Water_Jug_problem(X, J2) or\n",
        "                Water_Jug_problem(X + min(Y, (J1-X)),\n",
        "                Y - min(Y, (J1-X))) or\n",
        "                Water_Jug_problem(X - min(X, (J2-Y)),\n",
        "                Y + min(X, (J2-Y))))\n",
        "    else:\n",
        "        return False\n",
        "\n",
        "# Main Code\n",
        "\n",
        "J1 = 2\n",
        "J2 = 5\n",
        "L = 3\n",
        "print(\"Path is as Follow:\")\n",
        "\n",
        "Water_Jug_problem(0, 0)"
      ],
      "metadata": {
        "colab": {
          "base_uri": "https://localhost:8080/",
          "height": 0
        },
        "id": "TAJ-OzbHW6e5",
        "outputId": "668e1cc7-5a34-4cdf-cbf6-dd8a3d15ea6e"
      },
      "execution_count": 1,
      "outputs": [
        {
          "output_type": "stream",
          "name": "stdout",
          "text": [
            "Path is as Follow:\n",
            "(0, 0)\n",
            "(2, 0)\n",
            "(2, 5)\n",
            "(0, 5)\n",
            "(2, 3)\n",
            "(0, 3)\n"
          ]
        },
        {
          "output_type": "execute_result",
          "data": {
            "text/plain": [
              "True"
            ]
          },
          "metadata": {},
          "execution_count": 1
        }
      ]
    },
    {
      "cell_type": "code",
      "source": [
        "#Breath for Search\n",
        "graph = {\n",
        "  'A' : ['B','C'],\n",
        "  'B' : ['D'],\n",
        "  'C' : ['F'],\n",
        "  'D' : ['E', 'F'],\n",
        "  'E' : [],\n",
        "  'F' : ['A']\n",
        "}\n",
        " \n",
        "visited = [] # Keep track of visited nodes.\n",
        "queue = []   # Queue\n",
        " \n",
        "def bfs(visited, graph, node):\n",
        "    visited.append(node)\n",
        "    queue.append(node)\n",
        "    while queue:\n",
        "        s = queue.pop(0) \n",
        "        print (s, end = \" \") \n",
        "        for neighbour in graph[s]:\n",
        "              if neighbour not in visited:\n",
        "                    visited.append(neighbour)\n",
        "                    queue.append(neighbour)\n",
        " \n",
        "# Driver Code\n",
        "bfs(visited, graph, 'A')"
      ],
      "metadata": {
        "colab": {
          "base_uri": "https://localhost:8080/"
        },
        "id": "Bsj1veiBEsZX",
        "outputId": "b75e30e4-b651-4826-c05c-1f7e70a7fecf"
      },
      "execution_count": null,
      "outputs": [
        {
          "output_type": "stream",
          "name": "stdout",
          "text": [
            "A B C D F E "
          ]
        }
      ]
    },
    {
      "cell_type": "code",
      "source": [
        "class State:\n",
        "    def __init__(self, jug1, jug2):\n",
        "        self.jug1 = jug1\n",
        "        self.jug2 = jug2\n",
        "\n",
        "    def __eq__(self, other):\n",
        "        return self.jug1 == other.jug1 and self.jug2 == other.jug2\n",
        "\n",
        "    def __hash__(self):\n",
        "        return hash((self.jug1, self.jug2))\n",
        "\n",
        "\n",
        "def dfs_search(jug1_capacity, jug2_capacity, target):\n",
        "    stack = [(State(0, 0), [])]\n",
        "    visited = set()\n",
        "\n",
        "    while stack:\n",
        "        current_state, path = stack.pop()\n",
        "        visited.add(current_state)\n",
        "\n",
        "        if current_state.jug1 == target or current_state.jug2 == target:\n",
        "            path.append(current_state)\n",
        "            return path\n",
        "\n",
        "        next_states = []\n",
        "\n",
        "        # Fill jug1\n",
        "        next_states.append((State(jug1_capacity, current_state.jug2), 'Fill Jug 1'))\n",
        "\n",
        "        # Fill jug2\n",
        "        next_states.append((State(current_state.jug1, jug2_capacity), 'Fill Jug 2'))\n",
        "\n",
        "        # Empty jug1\n",
        "        next_states.append((State(0, current_state.jug2), 'Empty Jug 1'))\n",
        "\n",
        "        # Empty jug2\n",
        "        next_states.append((State(current_state.jug1, 0), 'Empty Jug 2'))\n",
        "\n",
        "        # Pour jug1 to jug2\n",
        "        pour_amount = min(current_state.jug1, jug2_capacity - current_state.jug2)\n",
        "        next_states.append((State(current_state.jug1 - pour_amount, current_state.jug2 + pour_amount), 'Pour Jug 1 to Jug 2'))\n",
        "\n",
        "        # Pour jug2 to jug1\n",
        "        pour_amount = min(jug1_capacity - current_state.jug1, current_state.jug2)\n",
        "        next_states.append((State(current_state.jug1 + pour_amount, current_state.jug2 - pour_amount), 'Pour Jug 2 to Jug 1'))\n",
        "\n",
        "        for next_state, action in next_states:\n",
        "            if next_state not in visited:\n",
        "                stack.append((next_state, path + [action]))\n",
        "\n",
        "    return None\n",
        "\n",
        "\n",
        "# Example usage\n",
        "jug1_capacity = 4\n",
        "jug2_capacity = 3\n",
        "target = 2\n",
        "\n",
        "solution = dfs_search(jug1_capacity, jug2_capacity, target)\n",
        "\n",
        "if solution:\n",
        "    print(\"Solution found:\")\n",
        "    for i, step in enumerate(solution):\n",
        "        print(f\"Step {i + 1}: {step}\")\n",
        "else:\n",
        "    print(\"No solution found.\")"
      ],
      "metadata": {
        "colab": {
          "base_uri": "https://localhost:8080/",
          "height": 0
        },
        "id": "m1HkfgIqW9MZ",
        "outputId": "552022bd-10eb-4f37-deeb-720ea4e87fc0"
      },
      "execution_count": 2,
      "outputs": [
        {
          "output_type": "stream",
          "name": "stdout",
          "text": [
            "Solution found:\n",
            "Step 1: Fill Jug 2\n",
            "Step 2: Pour Jug 2 to Jug 1\n",
            "Step 3: Fill Jug 2\n",
            "Step 4: Pour Jug 2 to Jug 1\n",
            "Step 5: <__main__.State object at 0x7fa13d009a80>\n"
          ]
        }
      ]
    },
    {
      "cell_type": "code",
      "source": [],
      "metadata": {
        "id": "OhfNpF7oXDwo"
      },
      "execution_count": null,
      "outputs": []
    }
  ]
}