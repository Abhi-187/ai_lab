{
  "nbformat": 4,
  "nbformat_minor": 0,
  "metadata": {
    "colab": {
      "provenance": []
    },
    "kernelspec": {
      "name": "python3",
      "display_name": "Python 3"
    },
    "language_info": {
      "name": "python"
    }
  },
  "cells": [
    {
      "cell_type": "code",
      "execution_count": null,
      "metadata": {
        "colab": {
          "base_uri": "https://localhost:8080/"
        },
        "id": "yS-yzAcG7ybC",
        "outputId": "a5f16433-4a3d-4618-87ab-5c0258f1b174"
      },
      "outputs": [
        {
          "output_type": "stream",
          "name": "stdout",
          "text": [
            " send  more  money\n",
            "(9567, 1085, 10652)\n"
          ]
        }
      ],
      "source": [
        "import itertools\n",
        "def solve2():\n",
        "    letters = ('s', 'e', 'n', 'd', 'm', 'o', 'r', 'y')\n",
        "    digits = range(10)\n",
        "    for perm in itertools.permutations(digits, len(letters)):\n",
        "        sol = dict(zip(letters, perm))\n",
        "        if sol['s'] == 0 or sol['m'] == 0:\n",
        "            continue\n",
        "        send = 1000 * sol['s'] + 100 * sol['e'] + 10 * sol['n'] + sol['d']\n",
        "        more = 1000 * sol['m'] + 100 * sol['o'] + 10 * sol['r'] + sol['e']\n",
        "        money = 10000 * sol['m'] + 1000 * sol['o'] + 100 * sol['n'] + 10 * sol['e'] + sol['y']\n",
        "        if send + more == money:\n",
        "          print(\" send\",\" more\",\" money\")\n",
        "          return send, more, money\n",
        "print(solve2())"
      ]
    }
  ]
}