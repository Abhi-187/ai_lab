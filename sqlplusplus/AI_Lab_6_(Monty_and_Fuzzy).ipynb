{
  "nbformat": 4,
  "nbformat_minor": 0,
  "metadata": {
    "colab": {
      "provenance": []
    },
    "kernelspec": {
      "name": "python3",
      "display_name": "Python 3"
    },
    "language_info": {
      "name": "python"
    }
  },
  "cells": [
    {
      "cell_type": "markdown",
      "source": [
        "**Monty Hall**"
      ],
      "metadata": {
        "id": "LoE1Y8ecAY96"
      }
    },
    {
      "cell_type": "code",
      "source": [
        "# Monty Hall Game in Python\n",
        "import random\n",
        "\n",
        "def play_monty_hall(choice):\n",
        "    # Prizes behind the door\n",
        "    # initial ordering doesn't matter\n",
        "    prizes = ['goat', 'car', 'goat']\n",
        "    \n",
        "    # Randomizing the prizes\n",
        "    random.shuffle(prizes) \n",
        "    \n",
        "    # Determining door without car to open\n",
        "    while True:\n",
        "        opening_door = random.randrange(len(prizes))\n",
        "        if prizes[opening_door] != 'car' and choice-1 != opening_door:\n",
        "            break\n",
        "    \n",
        "    opening_door = opening_door + 1\n",
        "    print('We are opening the door number-%d' % (opening_door))\n",
        "    \n",
        "    # Determining switching door\n",
        "    options = [1,2,3]\n",
        "    options.remove(choice)\n",
        "    options.remove(opening_door)\n",
        "    switching_door = options[0]\n",
        "        # Asking for switching the option\n",
        "    print('Now, do you want to switch to door number-%d? (yes/no)' %(switching_door))\n",
        "    answer = input()\n",
        "    if answer == 'yes':\n",
        "        result = switching_door - 1\n",
        "    else:\n",
        "        result = choice - 1\n",
        "    \n",
        "    # Displaying the player's prize \n",
        "    print('And your prize is ....', prizes[result].upper())\n",
        "    \n",
        "# Reading initial choice\n",
        "choice = int(input('Which door do you want to choose? (1,2,3): '))\n",
        "\n",
        "# Playing game\n",
        "play_monty_hall(choice)\n"
      ],
      "metadata": {
        "colab": {
          "base_uri": "https://localhost:8080/"
        },
        "id": "FMlVPEq2AHh9",
        "outputId": "0dd7a34b-a445-4482-aff9-e24258f7838a"
      },
      "execution_count": null,
      "outputs": [
        {
          "output_type": "stream",
          "name": "stdout",
          "text": [
            "Which door do you want to choose? (1,2,3): 2\n",
            "We are opening the door number-3\n",
            "Now, do you want to switch to door number-1? (yes/no)\n",
            "yes\n",
            "And your prize is .... CAR\n"
          ]
        }
      ]
    },
    {
      "cell_type": "markdown",
      "source": [
        "**Fuzzy Logic**"
      ],
      "metadata": {
        "id": "it1imp4AWQQr"
      }
    },
    {
      "cell_type": "code",
      "source": [
        "Y = dict()\n",
        "X = dict()\n",
        "A = {\"a\": 0.2, \"b\": 0.3, \"c\": 0.6, \"d\": 0.6}\n",
        "B = {\"a\": 0.9, \"b\": 0.9, \"c\": 0.4, \"d\": 0.5}\n",
        "print(\"The First Fuzzy Set is :\", A)\n",
        "print(\"The Second Fuzzy Set is :\", B)\n",
        "for A_key, B_key in zip(A, B):\n",
        " A_value = A[A_key]\n",
        " B_value = B[B_key]\n",
        " if A_value > B_value:\n",
        "  Y[A_key] = A_value\n",
        " else:\n",
        "  Y[B_key] = B_value\n",
        "print(\"Fuzzy Set Union is :\", Y)\n",
        "# Difference Between Two Fuzzy Sets\n",
        "for A_key in A:\n",
        "\n",
        " X[A_key]= 1-A[A_key]\n",
        "print(\"Fuzzy Set Complement is :\", X)"
      ],
      "metadata": {
        "colab": {
          "base_uri": "https://localhost:8080/"
        },
        "id": "xlKAKiq-WGC6",
        "outputId": "9b65b916-fdd0-4fe3-d67d-ff3b1c5a0d5b"
      },
      "execution_count": 1,
      "outputs": [
        {
          "output_type": "stream",
          "name": "stdout",
          "text": [
            "The First Fuzzy Set is : {'a': 0.2, 'b': 0.3, 'c': 0.6, 'd': 0.6}\n",
            "The Second Fuzzy Set is : {'a': 0.9, 'b': 0.9, 'c': 0.4, 'd': 0.5}\n",
            "Fuzzy Set Union is : {'a': 0.9, 'b': 0.9, 'c': 0.6, 'd': 0.6}\n",
            "Fuzzy Set Complement is : {'a': 0.8, 'b': 0.7, 'c': 0.4, 'd': 0.4}\n"
          ]
        }
      ]
    }
  ]
}